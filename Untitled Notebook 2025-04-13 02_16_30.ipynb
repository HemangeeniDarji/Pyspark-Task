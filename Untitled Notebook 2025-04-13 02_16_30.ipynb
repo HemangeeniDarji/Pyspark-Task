{
 "cells": [
  {
   "cell_type": "code",
   "execution_count": 0,
   "metadata": {
    "application/vnd.databricks.v1+cell": {
     "cellMetadata": {
      "byteLimit": 2048000,
      "rowLimit": 10000
     },
     "inputWidgets": {},
     "nuid": "a2821a08-da37-4682-9c42-794e68a8134e",
     "showTitle": false,
     "tableResultSettingsMap": {},
     "title": ""
    }
   },
   "outputs": [],
   "source": [
    "from pyspark.sql.functions import *"
   ]
  },
  {
   "cell_type": "code",
   "execution_count": 0,
   "metadata": {
    "application/vnd.databricks.v1+cell": {
     "cellMetadata": {
      "byteLimit": 2048000,
      "rowLimit": 10000
     },
     "inputWidgets": {},
     "nuid": "c04f2125-286c-4422-8907-b1984d617e87",
     "showTitle": false,
     "tableResultSettingsMap": {},
     "title": ""
    }
   },
   "outputs": [
    {
     "output_type": "stream",
     "name": "stdout",
     "output_type": "stream",
     "text": [
      "+-------+-----------+-------+---------------+\n|user_id|artist_name|song_id|played_duration|\n+-------+-----------+-------+---------------+\n|   U001|   Artist A|   S001|            180|\n|   U001|   Artist B|   S002|            200|\n|   U001|   Artist A|   S003|            150|\n|   U001|   Artist C|   S004|            300|\n|   U001|   Artist D|   S008|            300|\n|   U001|   Artist B|   S005|             50|\n|   U002|   Artist D|   S006|            240|\n|   U002|   Artist A|   S007|            140|\n+-------+-----------+-------+---------------+\n\n"
     ]
    }
   ],
   "source": [
    "from pyspark.sql import SparkSession\n",
    "from pyspark.sql.types import StructType, StructField, StringType, IntegerType\n",
    "\n",
    "# Initialize Spark session\n",
    "spark = SparkSession.builder.appName(\"DummyDataFrame\").getOrCreate()\n",
    "\n",
    "# Define schema\n",
    "schema = StructType([\n",
    "    StructField(\"user_id\", StringType(), True),\n",
    "    StructField(\"artist_name\", StringType(), True),\n",
    "    StructField(\"song_id\", StringType(), True),\n",
    "    StructField(\"played_duration\", IntegerType(), True)\n",
    "])\n",
    "\n",
    "# Create data\n",
    "data = [\n",
    "    (\"U001\", \"Artist A\", \"S001\", 180),\n",
    "    (\"U001\", \"Artist B\", \"S002\", 200),\n",
    "    (\"U001\", \"Artist A\", \"S003\", 150),\n",
    "    (\"U001\", \"Artist C\", \"S004\", 300),\n",
    "    (\"U001\", \"Artist D\", \"S008\", 300),\n",
    "    (\"U001\", \"Artist B\", \"S005\", 50),\n",
    "    (\"U002\", \"Artist D\", \"S006\",240),\n",
    "    (\"U002\", \"Artist A\", \"S007\", 140),\n",
    "]\n",
    "\n",
    "# Create DataFrame\n",
    "df = spark.createDataFrame(data, schema)\n",
    "\n",
    "# Show DataFrame\n",
    "df.show()\n"
   ]
  },
  {
   "cell_type": "code",
   "execution_count": 0,
   "metadata": {
    "application/vnd.databricks.v1+cell": {
     "cellMetadata": {
      "byteLimit": 2048000,
      "rowLimit": 10000
     },
     "inputWidgets": {},
     "nuid": "1a4d15b3-4728-4d9f-be28-0a7d2be3675b",
     "showTitle": false,
     "tableResultSettingsMap": {},
     "title": ""
    }
   },
   "outputs": [],
   "source": [
    "agg_df=df.groupBy(\"user_id\",\"artist_name\").agg(sum(\"played_duration\").alias(\"total_time\"))"
   ]
  },
  {
   "cell_type": "code",
   "execution_count": 0,
   "metadata": {
    "application/vnd.databricks.v1+cell": {
     "cellMetadata": {
      "byteLimit": 2048000,
      "rowLimit": 10000
     },
     "inputWidgets": {},
     "nuid": "65086fb8-f75d-4e0d-8705-a94c4d71f46f",
     "showTitle": false,
     "tableResultSettingsMap": {},
     "title": ""
    }
   },
   "outputs": [
    {
     "output_type": "stream",
     "name": "stdout",
     "output_type": "stream",
     "text": [
      "+-------+-----------+----------+\n|user_id|artist_name|total_time|\n+-------+-----------+----------+\n|   U001|   Artist A|       330|\n|   U001|   Artist B|       250|\n|   U001|   Artist C|       300|\n|   U001|   Artist D|       300|\n|   U002|   Artist D|       240|\n|   U002|   Artist A|       140|\n+-------+-----------+----------+\n\n"
     ]
    }
   ],
   "source": [
    "agg_df.show()"
   ]
  },
  {
   "cell_type": "code",
   "execution_count": 0,
   "metadata": {
    "application/vnd.databricks.v1+cell": {
     "cellMetadata": {
      "byteLimit": 2048000,
      "rowLimit": 10000
     },
     "inputWidgets": {},
     "nuid": "abfd4072-d533-4851-a201-dbeb2e73c53e",
     "showTitle": false,
     "tableResultSettingsMap": {},
     "title": ""
    }
   },
   "outputs": [],
   "source": [
    "from pyspark.sql.window import Window"
   ]
  },
  {
   "cell_type": "code",
   "execution_count": 0,
   "metadata": {
    "application/vnd.databricks.v1+cell": {
     "cellMetadata": {
      "byteLimit": 2048000,
      "rowLimit": 10000
     },
     "inputWidgets": {},
     "nuid": "a240ef5f-c149-45d6-94d3-753c6546daf2",
     "showTitle": false,
     "tableResultSettingsMap": {},
     "title": ""
    }
   },
   "outputs": [],
   "source": [
    "ranked=agg_df.withColumn(\"rank\",row_number().over(Window.partitionBy(\"user_id\").orderBy(col(\"total_time\").desc())))\n"
   ]
  },
  {
   "cell_type": "code",
   "execution_count": 0,
   "metadata": {
    "application/vnd.databricks.v1+cell": {
     "cellMetadata": {
      "byteLimit": 2048000,
      "rowLimit": 10000
     },
     "inputWidgets": {},
     "nuid": "7eabf354-30b0-4e96-8fb6-4243b8e09305",
     "showTitle": false,
     "tableResultSettingsMap": {},
     "title": ""
    }
   },
   "outputs": [
    {
     "output_type": "stream",
     "name": "stdout",
     "output_type": "stream",
     "text": [
      "+-------+-----------+----------+----+\n|user_id|artist_name|total_time|rank|\n+-------+-----------+----------+----+\n|   U001|   Artist A|       330|   1|\n|   U001|   Artist C|       300|   2|\n|   U001|   Artist D|       300|   3|\n|   U001|   Artist B|       250|   4|\n|   U002|   Artist D|       240|   1|\n|   U002|   Artist A|       140|   2|\n+-------+-----------+----------+----+\n\n"
     ]
    }
   ],
   "source": [
    "ranked.show()"
   ]
  },
  {
   "cell_type": "code",
   "execution_count": 0,
   "metadata": {
    "application/vnd.databricks.v1+cell": {
     "cellMetadata": {
      "byteLimit": 2048000,
      "rowLimit": 10000
     },
     "inputWidgets": {},
     "nuid": "8097a628-6e44-4e16-bd3a-e7eeb9c85922",
     "showTitle": false,
     "tableResultSettingsMap": {},
     "title": ""
    }
   },
   "outputs": [],
   "source": [
    "result=ranked.filter(col(\"rank\")<=3)"
   ]
  },
  {
   "cell_type": "code",
   "execution_count": 0,
   "metadata": {
    "application/vnd.databricks.v1+cell": {
     "cellMetadata": {
      "byteLimit": 2048000,
      "rowLimit": 10000
     },
     "inputWidgets": {},
     "nuid": "6593e661-c8ea-4dc5-974a-9c7916a228d8",
     "showTitle": false,
     "tableResultSettingsMap": {},
     "title": ""
    }
   },
   "outputs": [
    {
     "output_type": "stream",
     "name": "stdout",
     "output_type": "stream",
     "text": [
      "+-------+-----------+----------+----+\n|user_id|artist_name|total_time|rank|\n+-------+-----------+----------+----+\n|   U001|   Artist A|       330|   1|\n|   U001|   Artist C|       300|   2|\n|   U001|   Artist D|       300|   3|\n|   U002|   Artist D|       240|   1|\n|   U002|   Artist A|       140|   2|\n+-------+-----------+----------+----+\n\n"
     ]
    }
   ],
   "source": [
    "result.show()"
   ]
  },
  {
   "cell_type": "code",
   "execution_count": 0,
   "metadata": {
    "application/vnd.databricks.v1+cell": {
     "cellMetadata": {
      "byteLimit": 2048000,
      "rowLimit": 10000
     },
     "inputWidgets": {},
     "nuid": "72227a8e-2c9b-45f1-9e10-52545dd60634",
     "showTitle": false,
     "tableResultSettingsMap": {},
     "title": ""
    }
   },
   "outputs": [],
   "source": [
    "from pyspark.sql import SparkSession\n",
    "\n",
    "spark = SparkSession.builder.appName(\"InterviewTask\").getOrCreate()\n",
    "\n",
    "# DataFrame 1: Employee details\n",
    "data_emp = [\n",
    "    (101, \"Alice\", \"IT\", 6000),\n",
    "    (102, \"Bob\", \"CS\", 7500),\n",
    "    (103, \"Cathy\", \"IT\", 6200),\n",
    "    (104, \"David\", \"Mech\", 5500),\n",
    "    (105, \"Eve\", \"CS\", 7000),\n",
    "    (106, \"Frank\", \"ECE\", 4500),\n",
    "    (107, \"Grace\", \"ECE\", 4800),\n",
    "]\n",
    "\n",
    "columns_emp = [\"emp_id\", \"name\", \"department\", \"salary\"]\n",
    "df_emp = spark.createDataFrame(data_emp, columns_emp)\n",
    "\n",
    "# DataFrame 2: Department budget info\n",
    "data_dept = [\n",
    "    (\"IT\", 20000),\n",
    "    (\"CS\", 25000),\n",
    "    (\"ECE\", 15000),\n",
    "    (\"Mech\", 10000),\n",
    "    (\"Civil\", 12000)\n",
    "]\n",
    "\n",
    "columns_dept = [\"department\", \"budget\"]\n",
    "df_dept = spark.createDataFrame(data_dept, columns_dept)"
   ]
  },
  {
   "cell_type": "code",
   "execution_count": 0,
   "metadata": {
    "application/vnd.databricks.v1+cell": {
     "cellMetadata": {
      "byteLimit": 2048000,
      "rowLimit": 10000
     },
     "inputWidgets": {},
     "nuid": "e50cd16a-dce3-4a53-ac43-f15c8959553d",
     "showTitle": false,
     "tableResultSettingsMap": {},
     "title": ""
    }
   },
   "outputs": [
    {
     "output_type": "stream",
     "name": "stdout",
     "output_type": "stream",
     "text": [
      "+----------+------+\n|department|budget|\n+----------+------+\n|        IT| 20000|\n|        CS| 25000|\n|       ECE| 15000|\n|      Mech| 10000|\n|     Civil| 12000|\n+----------+------+\n\n"
     ]
    }
   ],
   "source": [
    "df_dept.show()"
   ]
  },
  {
   "cell_type": "code",
   "execution_count": 0,
   "metadata": {
    "application/vnd.databricks.v1+cell": {
     "cellMetadata": {
      "byteLimit": 2048000,
      "rowLimit": 10000
     },
     "inputWidgets": {},
     "nuid": "a7cceb05-9afb-4efd-a670-1685c1dd63e3",
     "showTitle": false,
     "tableResultSettingsMap": {},
     "title": ""
    }
   },
   "outputs": [
    {
     "output_type": "stream",
     "name": "stdout",
     "output_type": "stream",
     "text": [
      "+------+-----+----------+------+\n|emp_id| name|department|salary|\n+------+-----+----------+------+\n|   101|Alice|        IT|  6000|\n|   102|  Bob|        CS|  7500|\n|   103|Cathy|        IT|  6200|\n|   104|David|      Mech|  5500|\n|   105|  Eve|        CS|  7000|\n|   106|Frank|       ECE|  4500|\n|   107|Grace|       ECE|  4800|\n+------+-----+----------+------+\n\n"
     ]
    }
   ],
   "source": [
    "df_emp.show()"
   ]
  },
  {
   "cell_type": "code",
   "execution_count": 0,
   "metadata": {
    "application/vnd.databricks.v1+cell": {
     "cellMetadata": {
      "byteLimit": 2048000,
      "rowLimit": 10000
     },
     "inputWidgets": {},
     "nuid": "7450d618-8c6b-4b55-a38f-0c66e567d617",
     "showTitle": false,
     "tableResultSettingsMap": {},
     "title": ""
    }
   },
   "outputs": [],
   "source": [
    "total_salary=df_emp.groupBy(\"department\").agg(sum(\"salary\").alias(\"totalsalary\"))"
   ]
  },
  {
   "cell_type": "code",
   "execution_count": 0,
   "metadata": {
    "application/vnd.databricks.v1+cell": {
     "cellMetadata": {
      "byteLimit": 2048000,
      "rowLimit": 10000
     },
     "inputWidgets": {},
     "nuid": "32454f88-182d-41f4-a093-36ee34a96aa1",
     "showTitle": false,
     "tableResultSettingsMap": {},
     "title": ""
    }
   },
   "outputs": [
    {
     "output_type": "stream",
     "name": "stdout",
     "output_type": "stream",
     "text": [
      "+----------+-----------+\n|department|totalsalary|\n+----------+-----------+\n|        IT|      12200|\n|        CS|      14500|\n|      Mech|       5500|\n|       ECE|       9300|\n+----------+-----------+\n\n"
     ]
    }
   ],
   "source": [
    "total_salary.show()"
   ]
  },
  {
   "cell_type": "code",
   "execution_count": 0,
   "metadata": {
    "application/vnd.databricks.v1+cell": {
     "cellMetadata": {
      "byteLimit": 2048000,
      "rowLimit": 10000
     },
     "inputWidgets": {},
     "nuid": "bd90c6df-e1fe-4975-b2bb-a81f1d878648",
     "showTitle": false,
     "tableResultSettingsMap": {},
     "title": ""
    }
   },
   "outputs": [
    {
     "output_type": "stream",
     "name": "stdout",
     "output_type": "stream",
     "text": [
      "+----------+-----------+------+\n|department|totalsalary|budget|\n+----------+-----------+------+\n|        IT|      12200| 20000|\n|        CS|      14500| 25000|\n|       ECE|       9300| 15000|\n|      Mech|       5500| 10000|\n+----------+-----------+------+\n\n"
     ]
    }
   ],
   "source": [
    "df_joined = total_salary.join(df_dept,on=\"department\" , how=\"inner\")\n",
    "df_joined.show()"
   ]
  },
  {
   "cell_type": "code",
   "execution_count": 0,
   "metadata": {
    "application/vnd.databricks.v1+cell": {
     "cellMetadata": {
      "byteLimit": 2048000,
      "rowLimit": 10000
     },
     "inputWidgets": {},
     "nuid": "bd8904f1-d559-49b5-a903-f205e05177d6",
     "showTitle": false,
     "tableResultSettingsMap": {},
     "title": ""
    }
   },
   "outputs": [],
   "source": [
    "df_filtered = df_joined.filter(col(\"totalsalary\") > col(\"budget\"))"
   ]
  },
  {
   "cell_type": "code",
   "execution_count": 0,
   "metadata": {
    "application/vnd.databricks.v1+cell": {
     "cellMetadata": {
      "byteLimit": 2048000,
      "rowLimit": 10000
     },
     "inputWidgets": {},
     "nuid": "c121e506-1da4-4b71-ba2e-b8bdd64affa1",
     "showTitle": false,
     "tableResultSettingsMap": {},
     "title": ""
    }
   },
   "outputs": [
    {
     "output_type": "stream",
     "name": "stdout",
     "output_type": "stream",
     "text": [
      "+----------+-----------+------+\n|department|totalsalary|budget|\n+----------+-----------+------+\n+----------+-----------+------+\n\n"
     ]
    }
   ],
   "source": [
    "df_filtered.show()"
   ]
  },
  {
   "cell_type": "code",
   "execution_count": 0,
   "metadata": {
    "application/vnd.databricks.v1+cell": {
     "cellMetadata": {
      "byteLimit": 2048000,
      "rowLimit": 10000
     },
     "inputWidgets": {},
     "nuid": "9c6640f1-ec43-4c32-9678-5db5a8b7949f",
     "showTitle": false,
     "tableResultSettingsMap": {},
     "title": ""
    }
   },
   "outputs": [
    {
     "output_type": "stream",
     "name": "stdout",
     "output_type": "stream",
     "text": [
      "+----------+-----------+------+-----------+\n|department|totalsalary|budget|over_budget|\n+----------+-----------+------+-----------+\n|        IT|      12200| 20000|         No|\n|        CS|      14500| 25000|         No|\n|       ECE|       9300| 15000|         No|\n|      Mech|       5500| 10000|         No|\n+----------+-----------+------+-----------+\n\n"
     ]
    }
   ],
   "source": [
    "dfresult = df_joined.withColumn(\"over_budget\", when(col(\"totalsalary\") > col(\"budget\"), \"Yes\").otherwise(\"No\"))\n",
    "dfresult.show()"
   ]
  },
  {
   "cell_type": "code",
   "execution_count": 0,
   "metadata": {
    "application/vnd.databricks.v1+cell": {
     "cellMetadata": {},
     "inputWidgets": {},
     "nuid": "9a63eb3a-1bd0-40f9-8dd7-5b061d32f504",
     "showTitle": false,
     "tableResultSettingsMap": {},
     "title": ""
    }
   },
   "outputs": [],
   "source": []
  }
 ],
 "metadata": {
  "application/vnd.databricks.v1+notebook": {
   "computePreferences": null,
   "dashboards": [],
   "environmentMetadata": {
    "base_environment": "",
    "environment_version": "1"
   },
   "inputWidgetPreferences": null,
   "language": "python",
   "notebookMetadata": {
    "pythonIndentUnit": 4
   },
   "notebookName": "Untitled Notebook 2025-04-13 02:16:30",
   "widgets": {}
  }
 },
 "nbformat": 4,
 "nbformat_minor": 0
}